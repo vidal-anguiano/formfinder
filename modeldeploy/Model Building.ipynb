{
 "cells": [
  {
   "cell_type": "code",
   "execution_count": 1,
   "metadata": {},
   "outputs": [],
   "source": [
    "from pyspark.sql import SparkSession\n",
    "\n",
    "spark = SparkSession\\\n",
    "        .builder\\\n",
    "        .master('local[*]')\\\n",
    "        .appName('Python Text Classification')\\\n",
    "        .config(\"spark.executor.memory\", \"1g\")\\\n",
    "        .getOrCreate()"
   ]
  },
  {
   "cell_type": "markdown",
   "metadata": {},
   "source": [
    "## Other Installations"
   ]
  },
  {
   "cell_type": "code",
   "execution_count": 2,
   "metadata": {
    "scrolled": true
   },
   "outputs": [
    {
     "name": "stdout",
     "output_type": "stream",
     "text": [
      "Requirement already satisfied: nltk in /opt/conda/lib/python3.6/site-packages (3.4)\r\n",
      "Requirement already satisfied: six in /opt/conda/lib/python3.6/site-packages (from nltk) (1.11.0)\r\n",
      "Requirement already satisfied: singledispatch in /opt/conda/lib/python3.6/site-packages (from nltk) (3.4.0.3)\r\n"
     ]
    }
   ],
   "source": [
    "!pip install nltk"
   ]
  },
  {
   "cell_type": "code",
   "execution_count": 4,
   "metadata": {},
   "outputs": [
    {
     "name": "stderr",
     "output_type": "stream",
     "text": [
      "[nltk_data] Downloading package stopwords to /home/jovyan/nltk_data...\n",
      "[nltk_data]   Package stopwords is already up-to-date!\n"
     ]
    },
    {
     "data": {
      "text/plain": [
       "True"
      ]
     },
     "execution_count": 4,
     "metadata": {},
     "output_type": "execute_result"
    }
   ],
   "source": [
    "import nltk\n",
    "nltk.download('stopwords')"
   ]
  },
  {
   "cell_type": "code",
   "execution_count": 5,
   "metadata": {},
   "outputs": [],
   "source": [
    "from nltk.corpus import stopwords\n",
    "stop_words = list(stopwords.words('english'))"
   ]
  },
  {
   "cell_type": "markdown",
   "metadata": {},
   "source": [
    "## Reindex Dataset using Pandas (Workaround)"
   ]
  },
  {
   "cell_type": "code",
   "execution_count": 6,
   "metadata": {},
   "outputs": [],
   "source": [
    "import pandas as pd\n",
    "\n",
    "pdata = pd.read_parquet('./data.parq')\n",
    "pdata = pdata.reset_index(drop=True).set_index('pdf_id')\n",
    "pdata.to_parquet('./reindexed_data.parq')"
   ]
  },
  {
   "cell_type": "markdown",
   "metadata": {},
   "source": [
    "## Reading in the Data\n",
    "I read in the exact data that is produced by the web and pdf scraper."
   ]
  },
  {
   "cell_type": "code",
   "execution_count": 190,
   "metadata": {},
   "outputs": [],
   "source": [
    "data = spark.read.option('header', 'true')\\\n",
    "                 .option('inferSchema', 'true')\\\n",
    "                 .parquet('./reindexed_data.parq')\n",
    "data.createOrReplaceTempView('data')"
   ]
  },
  {
   "cell_type": "code",
   "execution_count": 191,
   "metadata": {},
   "outputs": [
    {
     "data": {
      "text/plain": [
       "12146"
      ]
     },
     "execution_count": 191,
     "metadata": {},
     "output_type": "execute_result"
    }
   ],
   "source": [
    "data.count()"
   ]
  },
  {
   "cell_type": "markdown",
   "metadata": {},
   "source": [
    "## Cleaning the Data\n",
    "First, I remove from the dataset any PDF documents that either did not download or scrape successfully. There are 880 of them."
   ]
  },
  {
   "cell_type": "code",
   "execution_count": 192,
   "metadata": {},
   "outputs": [
    {
     "name": "stdout",
     "output_type": "stream",
     "text": [
      "+--------+\n",
      "|count(1)|\n",
      "+--------+\n",
      "|     880|\n",
      "+--------+\n",
      "\n"
     ]
    }
   ],
   "source": [
    "spark.sql('''\n",
    "SELECT COUNT(*)\n",
    "FROM data\n",
    "WHERE text is NULL\n",
    "''').show(1)"
   ]
  },
  {
   "cell_type": "markdown",
   "metadata": {},
   "source": [
    "In addition to removing PDFs with text as `NULL`, I remove PDFs with no scraped text, which can be seen below. First I show the number of PDFs that have a small text length, being 1-10 characters long, and second, I show the actual text of those documents. We can see that those characters are just blank spaces."
   ]
  },
  {
   "cell_type": "code",
   "execution_count": 193,
   "metadata": {},
   "outputs": [
    {
     "name": "stdout",
     "output_type": "stream",
     "text": [
      "+----+--------+\n",
      "| len|num_pdfs|\n",
      "+----+--------+\n",
      "|null|     880|\n",
      "|   1|     309|\n",
      "|   2|     296|\n",
      "|   3|     215|\n",
      "|   4|     115|\n",
      "|   5|      75|\n",
      "|   6|     383|\n",
      "|   7|     275|\n",
      "|   8|     108|\n",
      "|   9|      39|\n",
      "|  10|      21|\n",
      "|  27|       1|\n",
      "|  46|       1|\n",
      "|  52|       1|\n",
      "|  73|       1|\n",
      "+----+--------+\n",
      "only showing top 15 rows\n",
      "\n"
     ]
    }
   ],
   "source": [
    "spark.sql('''\n",
    "SELECT length(trim(text)) as len, count(1) as num_pdfs\n",
    "FROM data\n",
    "GROUP BY len\n",
    "ORDER BY 1 ASC\n",
    "''').show(15)"
   ]
  },
  {
   "cell_type": "code",
   "execution_count": 194,
   "metadata": {},
   "outputs": [
    {
     "name": "stdout",
     "output_type": "stream",
     "text": [
      "+----------+\n",
      "|trim(text)|\n",
      "+----------+\n",
      "|    \f",
      "\f",
      "\f",
      "\f",
      "\f",
      "\f",
      "|\n",
      "|     \f",
      "\f",
      "\f",
      "\f",
      "\f",
      "|\n",
      "|         \f",
      "|\n",
      "|         \f",
      "|\n",
      "|    \f",
      "\f",
      "\f",
      "\f",
      "\f",
      "\f",
      "|\n",
      "|\f",
      "\f",
      "\f",
      "\f",
      "\f",
      "\f",
      "\f",
      "\f",
      "\f",
      "\f",
      "|\n",
      "|     \f",
      "\f",
      "\f",
      "\f",
      "\f",
      "|\n",
      "|         \f",
      "|\n",
      "|         \f",
      "|\n",
      "|  \f",
      "\f",
      "\f",
      "\f",
      "\f",
      "\f",
      "\f",
      "\f",
      "|\n",
      "|   \f",
      "\f",
      "\f",
      "\f",
      "\f",
      "\f",
      "\f",
      "|\n",
      "|   \f",
      "\f",
      "\f",
      "\f",
      "\f",
      "\f",
      "\f",
      "|\n",
      "|         \f",
      "|\n",
      "|         \f",
      "|\n",
      "|   \f",
      "\f",
      "\f",
      "\f",
      "\f",
      "\f",
      "\f",
      "|\n",
      "|       \f",
      "\f",
      "\f",
      "|\n",
      "|        \f",
      "\f",
      "|\n",
      "|       \f",
      "\f",
      "\f",
      "|\n",
      "|        \f",
      "\f",
      "|\n",
      "|         \f",
      "|\n",
      "+----------+\n",
      "only showing top 20 rows\n",
      "\n"
     ]
    }
   ],
   "source": [
    "spark.sql('''\n",
    "SELECT TRIM(text)\n",
    "FROM data\n",
    "WHERE LENGTH(text) <= 10\n",
    "''').show(20)"
   ]
  },
  {
   "cell_type": "markdown",
   "metadata": {},
   "source": [
    "The documents that need to be dropped because of they are either null or blank spaces are 2,713, which leaves us with **9,433 documents** to train and test a model. Now, we will drop those rows."
   ]
  },
  {
   "cell_type": "code",
   "execution_count": 195,
   "metadata": {},
   "outputs": [],
   "source": [
    "data = spark.sql('''\n",
    "SELECT *\n",
    "FROM data\n",
    "WHERE text is not NULL\n",
    "''')\n",
    "data.createOrReplaceTempView('data')\n",
    "data = spark.sql('''\n",
    "SELECT *\n",
    "FROM data\n",
    "WHERE length(text) > 10\n",
    "''')\n",
    "data.createOrReplaceTempView('data')"
   ]
  },
  {
   "cell_type": "markdown",
   "metadata": {},
   "source": [
    "## Label Creation and Feature Extraction\n",
    "Next, I will create the label for our data. The label will be created using the `is_fillable` column, which was a column created in the pdf scraping process. This column indicates whther the PDF document can be edited using text boxes within the PDF document. These documents will serve as our examples of forms. There are 171 of them."
   ]
  },
  {
   "cell_type": "code",
   "execution_count": 55,
   "metadata": {},
   "outputs": [
    {
     "name": "stdout",
     "output_type": "stream",
     "text": [
      "+--------------------+--------+\n",
      "|         is_fillable|count(1)|\n",
      "+--------------------+--------+\n",
      "|                null|     276|\n",
      "| Not a fillable PDF.|   11340|\n",
      "|Fillable Check: F...|     359|\n",
      "|       Fillable PDF.|     171|\n",
      "+--------------------+--------+\n",
      "\n"
     ]
    }
   ],
   "source": [
    "spark.sql('''\n",
    "select distinct(is_fillable), count(1)\n",
    "from data\n",
    "group by 1''').show(5)"
   ]
  },
  {
   "cell_type": "code",
   "execution_count": 63,
   "metadata": {},
   "outputs": [],
   "source": [
    "data = spark.sql('''\n",
    "SELECT *, \n",
    "       CASE WHEN is_fillable == 'Fillable PDF.'\n",
    "            THEN 1\n",
    "            ELSE 0 END AS label\n",
    "FROM data\n",
    "''')\n",
    "data.createOrReplaceTempView('data')"
   ]
  },
  {
   "cell_type": "markdown",
   "metadata": {},
   "source": [
    "Now we will setup our tokenizer and stopwords remover, hashingTF, and TF-IDF. The rationale for using TF-IDF is due to the particular context - we are attempting to find forms which presumably contain a relatively similar set of words, and have very few words across the entire document. Hence, the context makes TF-IDF great for this."
   ]
  },
  {
   "cell_type": "code",
   "execution_count": 196,
   "metadata": {},
   "outputs": [],
   "source": [
    "from pyspark.ml.feature import (RegexTokenizer, StopWordsRemover,\n",
    "                                Word2Vec, HashingTF, IDF)\n",
    "\n",
    "regexTokenizer = RegexTokenizer(inputCol='text', outputCol='words', pattern=\"\\\\W\")\n",
    "stopwordsRemover = StopWordsRemover(inputCol='words', outputCol='filtered').setStopWords(stop_words)\n",
    "\n",
    "hashingTF = HashingTF(inputCol='filtered', outputCol='rawFeatures', numFeatures=10000)\n",
    "idf = IDF(inputCol='rawFeatures', outputCol='features', minDocFreq=5)"
   ]
  },
  {
   "cell_type": "markdown",
   "metadata": {},
   "source": [
    "Setup and run pipeline to tokenize, remove stopwords, and create TF-IDF features."
   ]
  },
  {
   "cell_type": "code",
   "execution_count": 173,
   "metadata": {},
   "outputs": [],
   "source": [
    "from pyspark.ml import Pipeline\n",
    "pipeline = Pipeline(stages=[regexTokenizer, stopwordsRemover, hashingTF, idf])\n",
    "pipelineFit = pipeline.fit(data)\n",
    "dataset = pipelineFit.transform(data)"
   ]
  },
  {
   "cell_type": "markdown",
   "metadata": {},
   "source": [
    "Split data in to train and test."
   ]
  },
  {
   "cell_type": "code",
   "execution_count": 174,
   "metadata": {},
   "outputs": [],
   "source": [
    "(trainingData, testData) = dataset.randomSplit([0.7, 0.3], seed = 100)"
   ]
  },
  {
   "cell_type": "markdown",
   "metadata": {},
   "source": [
    "Instantiate and run training data through model."
   ]
  },
  {
   "cell_type": "code",
   "execution_count": 176,
   "metadata": {},
   "outputs": [],
   "source": [
    "from pyspark.ml.classification import LogisticRegression\n",
    "\n",
    "lr = LogisticRegression(maxIter=20, regParam=0.3, elasticNetParam=0, family = \"binomial\")\n",
    "lrModel = lr.fit(trainingData)"
   ]
  },
  {
   "cell_type": "markdown",
   "metadata": {},
   "source": [
    "### Model Evaluation\n",
    "\n",
    "The coefficients for each of the 10,000 features are shown below."
   ]
  },
  {
   "cell_type": "code",
   "execution_count": 79,
   "metadata": {},
   "outputs": [
    {
     "data": {
      "image/png": "[encoded data removed]",
      "text/plain": [
       "<Figure size 432x288 with 1 Axes>"
      ]
     },
     "metadata": {
      "needs_background": "light"
     },
     "output_type": "display_data"
    }
   ],
   "source": [
    "import matplotlib.pyplot as plt\n",
    "import numpy as np\n",
    "\n",
    "beta = np.sort(lrModel.coefficients)\n",
    "\n",
    "plt.plot(beta)\n",
    "plt.ylabel('Beta Coefficients')\n",
    "plt.show()"
   ]
  },
  {
   "cell_type": "code",
   "execution_count": 81,
   "metadata": {},
   "outputs": [
    {
     "name": "stdout",
     "output_type": "stream",
     "text": [
      "areaUnderROC: 0.995746727811101\n"
     ]
    },
    {
     "data": {
      "image/png": "[encoded data removed]",
      "text/plain": [
       "<Figure size 432x288 with 1 Axes>"
      ]
     },
     "metadata": {
      "needs_background": "light"
     },
     "output_type": "display_data"
    }
   ],
   "source": [
    "print(\"areaUnderROC: \" + str(trainingSummary.areaUnderROC))\n",
    "\n",
    "#trainingSummary.roc.show(n=10, truncate=15)\n",
    "roc = trainingSummary.roc.toPandas()\n",
    "plt.plot(roc['FPR'],roc['TPR'])\n",
    "plt.ylabel('False Positive Rate')\n",
    "plt.xlabel('True Positive Rate')\n",
    "plt.title('ROC Curve')\n",
    "plt.show()"
   ]
  },
  {
   "cell_type": "code",
   "execution_count": 82,
   "metadata": {},
   "outputs": [
    {
     "data": {
      "image/png": "[encoded data removed]",
      "text/plain": [
       "<Figure size 432x288 with 1 Axes>"
      ]
     },
     "metadata": {
      "needs_background": "light"
     },
     "output_type": "display_data"
    }
   ],
   "source": [
    "pr = trainingSummary.pr.toPandas()\n",
    "plt.plot(pr['recall'],pr['precision'])\n",
    "plt.ylabel('Precision')\n",
    "plt.xlabel('Recall')\n",
    "plt.show()"
   ]
  },
  {
   "cell_type": "code",
   "execution_count": 76,
   "metadata": {},
   "outputs": [
    {
     "data": {
      "image/png": "[encoded data removed]",
      "text/plain": [
       "<Figure size 432x288 with 1 Axes>"
      ]
     },
     "metadata": {
      "needs_background": "light"
     },
     "output_type": "display_data"
    }
   ],
   "source": [
    "f = trainingSummary.fMeasureByThreshold.toPandas()\n",
    "plt.plot(f['threshold'],f['F-Measure'])\n",
    "plt.ylabel('F-Measure')\n",
    "plt.xlabel('Threshold')\n",
    "plt.show()"
   ]
  },
  {
   "cell_type": "markdown",
   "metadata": {},
   "source": [
    "## Results\n",
    "Run the test data through the model and see results. Below are the text, label, and probability attributed to each of the first 50 pdf documents in the fileset."
   ]
  },
  {
   "cell_type": "code",
   "execution_count": 160,
   "metadata": {
    "scrolled": true
   },
   "outputs": [
    {
     "name": "stdout",
     "output_type": "stream",
     "text": [
      "+----------------------------------------+-----+----------------------------------------+\n",
      "|                                    text|label|                             probability|\n",
      "+----------------------------------------+-----+----------------------------------------+\n",
      "|MEMORANDUM   To:  All Developers   Re...|    0|[0.9860441074774775,0.013955892522522...|\n",
      "|Mision Christ iana’s Austin Family Ou...|    0|[0.9857423178288877,0.014257682171112...|\n",
      "|Accommodations for Persons with Disab...|    1|[0.9737970419713182,0.026202958028681...|\n",
      "|FREEDOM OF INFORMATION ACT   INFORMAT...|    0|[0.9787186953163186,0.02128130468368133]|\n",
      "|Introduction   The  City  of  Chicago...|    0| [0.98987732923135,0.010122670768650094]|\n",
      "|Introducci6n  EI  Departamento  de  A...|    0|[0.9973906456323607,0.002609354367639...|\n",
      "|Accommodations for Persons with Disab...|    1|[0.9737970419713182,0.026202958028681...|\n",
      "|               Pharmaceutical Represe...|    0|[0.9545097438831984,0.04549025611680157]|\n",
      "|10 Things  Every Consumer Should Know...|    0|[0.9919972600669341,0.008002739933066...|\n",
      "|IMMIGRATION ASSISTANCE PROVIDERS    R...|    0|[0.9837415236435014,0.016258476356498...|\n",
      "|CITY OF CHICAGO OFFERS  FREE MONTHLY ...|    0|[0.9875038457245557,0.01249615427544422]|\n",
      "|GRANT OF PRIVILEGE APPLICATION PACKAG...|    0|[0.9467658239459306,0.05323417605406957]|\n",
      "|           CITY OF CHICAGO           ...|    0|[0.9949487901943889,0.005051209805611...|\n",
      "|   PUBLIC WAY USE - FEE STRUCTURE    ...|    0|[0.9857998922211764,0.014200107778823...|\n",
      "|LIST OF LICENSED SIGN CONTRACTORS   •...|    0|[0.9999334691170064,6.653088299361479...|\n",
      "|D E P A R T M E N T  O F   B U S I N ...|    0|[0.987989748492571,0.012010251507428883]|\n",
      "|THE ROAD TO A ROBUST TAXI INDUSTRY  O...|    0| [0.989643931676655,0.01035606832334508]|\n",
      "|     City of Chicago                 ...|    0|[0.9871357932881201,0.012864206711879...|\n",
      "|Business eDucation W   rkshops  • Feb...|    0|[0.9877134039094122,0.012286596090587...|\n",
      "|Business eDucation W   rkshops  • JUN...|    0|[0.9908553296313448,0.009144670368655...|\n",
      "|BUSINESS EDUCATION W   RKSHOPS  • MAY...|    0|[0.9874857288033237,0.012514271196676...|\n",
      "|  Date   Business eDucation W   rksho...|    0|[0.990463163626908,0.009536836373091948]|\n",
      "|          Cuidado y Servicios de Anim...|    0|[0.9988014099667086,0.001198590033291...|\n",
      "|          Cobro de Deudas: Lo que deb...|    0|[0.9966940967643881,0.003305903235611...|\n",
      "|          Estacionamiento y Garaje: L...|    0|[0.9977248662656533,0.002275133734346...|\n",
      "|   BUSINESS START-UP CERTIFICATE   20...|    0|[0.9845710198063308,0.015428980193669...|\n",
      "|Toolkit Information   To ensure a suc...|    0|[0.9906243943136618,0.009375605686338...|\n",
      "|CITY OF CHICAGO OFFERS  FREE MONTHLY ...|    0|[0.9878961533537082,0.012103846646291...|\n",
      "|BUSINESS EDUCATION W   RKSHOPS  • APR...|    0|[0.9907963336847896,0.00920366631521029]|\n",
      "|BUSINESS EDUCATION W   RKSHOPS  • AUG...|    0|[0.9909427533134427,0.009057246686557...|\n",
      "|BUSINESS EDUCATION W   RKSHOPS      •...|    0|[0.986837044284618,0.013162955715381825]|\n",
      "|BUSINESS EDUCATION WORKSHOPS  (WEDNES...|    0|[0.9906508052967233,0.009349194703276...|\n",
      "|BUSINESS EDUCATION W   RKSHOPS  • JUN...|    0|[0.9900454889550598,0.00995451104494008]|\n",
      "|BUSINESS EDUCATION W   RKSHOPS  • MAY...|    0|[0.9872707782645445,0.012729221735455...|\n",
      "|BUSINESS EDUCATION W   RKSHOPS  • DEC...|    0|[0.9887656368085406,0.011234363191459...|\n",
      "|S U B S T I T U TE  O R D I N A N CE ...|    0|[0.9932535217425509,0.006746478257449...|\n",
      "|City of Chicago   Business Affairs an...|    0|[0.9881909176809875,0.011809082319012...|\n",
      "|          Animal Care and Services in...|    0|[0.9934224929492116,0.006577507050788...|\n",
      "|Children’s Services Facilities in Chi...|    0|[0.9883857711722531,0.01161422882774688]|\n",
      "|          Mobile Prepared Food Vendor...|    0|[0.9909402518393667,0.009059748160633...|\n",
      "|          Parking Lots & Public Garag...|    0|[0.9900923674527874,0.00990763254721254]|\n",
      "|          Shared Kitchens in Chicago:...|    0|[0.9965504027515003,0.003449597248499...|\n",
      "|Name  Address  City  St Zip  Agency P...|    0|[0.9849704702322096,0.015029529767790...|\n",
      "|CHAMBERS OF COMMERCE  Name 18th Stree...|    0|[0.9990504421423804,9.495578576196474...|\n",
      "|S M A L L BUSINESS C E N T ER  We are...|    0|[0.9934896593833507,0.006510340616649...|\n",
      "|      ACCESS TO CAPITAL FOR ESTABLISH...|    0|[0.990236290305709,0.009763709694290865]|\n",
      "|National African-American Small Busin...|    0|[0.9899106938350865,0.010089306164913...|\n",
      "|Veteran Small Business Loan Fund Term...|    0|[0.9898289225438822,0.010171077456117...|\n",
      "|K N O W  YOUR LOCAL NEIGHBORHOOD BUSI...|    0| [0.98782230484289,0.012177695157110062]|\n",
      "|CURBSIDE CAFÉ APPLICATION INFORMATION...|    0|[0.9863596662519852,0.013640333748014...|\n",
      "+----------------------------------------+-----+----------------------------------------+\n",
      "only showing top 50 rows\n",
      "\n"
     ]
    }
   ],
   "source": [
    "predictions = lrModel.transform(testData)\n",
    "\n",
    "predictions.select('text',\n",
    "                   'label',\n",
    "                   'probability').show(n=50, truncate=40)\n",
    "predictions.createOrReplaceTempView('pred')"
   ]
  },
  {
   "cell_type": "markdown",
   "metadata": {},
   "source": [
    "The code below creates a new row in the data taking just the probability score of the PDF document being a form and sorts the dataset by the score in descending order. Finally, the results are put out to CSV."
   ]
  },
  {
   "cell_type": "code",
   "execution_count": 163,
   "metadata": {},
   "outputs": [],
   "source": [
    "pred = spark.sql('''\n",
    "SELECT from_page, \n",
    "       pdf_url,\n",
    "       num_pages,\n",
    "       num_pages_scraped,\n",
    "       is_fillable,\n",
    "       label, \n",
    "       probability,\n",
    "       prediction\n",
    "FROM pred''').toPandas()\n",
    "pred['prob'] = pred.probability.apply(lambda x: x[1])\n",
    "pred = pred.sort_values(by='prob', ascending=False)\n",
    "pred = pred[['from_page',\n",
    "             'pdf_url',\n",
    "             'num_pages',\n",
    "             'num_pages_scraped',\n",
    "             'is_fillable',\n",
    "             'prediction',\n",
    "             'prob',]]\n",
    "pred.to_csv('./output/output.csv')"
   ]
  },
  {
   "cell_type": "markdown",
   "metadata": {},
   "source": [
    "Lastly, I save the model locally. To see how the model can be run using a Docker container, see here."
   ]
  },
  {
   "cell_type": "code",
   "execution_count": 178,
   "metadata": {},
   "outputs": [],
   "source": [
    "lrModel.save('./model.model')"
   ]
  }
 ],
 "metadata": {
  "kernelspec": {
   "display_name": "Python 3",
   "language": "python",
   "name": "python3"
  },
  "language_info": {
   "codemirror_mode": {
    "name": "ipython",
    "version": 3
   },
   "file_extension": ".py",
   "mimetype": "text/x-python",
   "name": "python",
   "nbconvert_exporter": "python",
   "pygments_lexer": "ipython3",
   "version": "3.6.6"
  }
 },
 "nbformat": 4,
 "nbformat_minor": 2
}
